{
 "cells": [
  {
   "cell_type": "code",
   "execution_count": 1,
   "metadata": {
    "collapsed": true
   },
   "outputs": [],
   "source": [
    "import pandas as pd"
   ]
  },
  {
   "cell_type": "code",
   "execution_count": 2,
   "outputs": [],
   "source": [
    "private = pd.read_csv(\"data/private.csv\")"
   ],
   "metadata": {
    "collapsed": false
   }
  },
  {
   "cell_type": "code",
   "execution_count": 3,
   "outputs": [
    {
     "data": {
      "text/plain": "         Unnamed: 0\ncount   1926.000000\nmean    6163.399273\nstd     7182.646393\nmin        1.000000\n25%     1602.250000\n50%     3250.000000\n75%     6637.750000\nmax    27539.000000",
      "text/html": "<div>\n<style scoped>\n    .dataframe tbody tr th:only-of-type {\n        vertical-align: middle;\n    }\n\n    .dataframe tbody tr th {\n        vertical-align: top;\n    }\n\n    .dataframe thead th {\n        text-align: right;\n    }\n</style>\n<table border=\"1\" class=\"dataframe\">\n  <thead>\n    <tr style=\"text-align: right;\">\n      <th></th>\n      <th>Unnamed: 0</th>\n    </tr>\n  </thead>\n  <tbody>\n    <tr>\n      <th>count</th>\n      <td>1926.000000</td>\n    </tr>\n    <tr>\n      <th>mean</th>\n      <td>6163.399273</td>\n    </tr>\n    <tr>\n      <th>std</th>\n      <td>7182.646393</td>\n    </tr>\n    <tr>\n      <th>min</th>\n      <td>1.000000</td>\n    </tr>\n    <tr>\n      <th>25%</th>\n      <td>1602.250000</td>\n    </tr>\n    <tr>\n      <th>50%</th>\n      <td>3250.000000</td>\n    </tr>\n    <tr>\n      <th>75%</th>\n      <td>6637.750000</td>\n    </tr>\n    <tr>\n      <th>max</th>\n      <td>27539.000000</td>\n    </tr>\n  </tbody>\n</table>\n</div>"
     },
     "execution_count": 3,
     "metadata": {},
     "output_type": "execute_result"
    }
   ],
   "source": [
    "private.describe()"
   ],
   "metadata": {
    "collapsed": false
   }
  },
  {
   "cell_type": "code",
   "execution_count": 4,
   "outputs": [
    {
     "name": "stdout",
     "output_type": "stream",
     "text": [
      "<class 'pandas.core.frame.DataFrame'>\n",
      "RangeIndex: 1926 entries, 0 to 1925\n",
      "Data columns (total 3 columns):\n",
      " #   Column      Non-Null Count  Dtype \n",
      "---  ------      --------------  ----- \n",
      " 0   Unnamed: 0  1926 non-null   int64 \n",
      " 1   file        1926 non-null   object\n",
      " 2   status      1926 non-null   object\n",
      "dtypes: int64(1), object(2)\n",
      "memory usage: 45.3+ KB\n"
     ]
    }
   ],
   "source": [
    "private.info()"
   ],
   "metadata": {
    "collapsed": false
   }
  },
  {
   "cell_type": "code",
   "execution_count": 5,
   "outputs": [
    {
     "data": {
      "text/plain": "   Unnamed: 0                                      file   status\n0           1  00039425-7f3a-42aa-ac13-834aaa2b6b92.wav  healthy\n1           3  0009eb28-d8be-4dc1-92bb-907e53bc5c7a.wav  healthy\n2           5  001328dc-ea5d-4847-9ccf-c5aa2a3f2d0f.wav  healthy\n3          10  0028b68c-aca4-4f4f-bb1d-cb4ed5bbd952.wav  healthy\n4          11  00291cce-36a0-4a29-9e2d-c1d96ca17242.wav  healthy",
      "text/html": "<div>\n<style scoped>\n    .dataframe tbody tr th:only-of-type {\n        vertical-align: middle;\n    }\n\n    .dataframe tbody tr th {\n        vertical-align: top;\n    }\n\n    .dataframe thead th {\n        text-align: right;\n    }\n</style>\n<table border=\"1\" class=\"dataframe\">\n  <thead>\n    <tr style=\"text-align: right;\">\n      <th></th>\n      <th>Unnamed: 0</th>\n      <th>file</th>\n      <th>status</th>\n    </tr>\n  </thead>\n  <tbody>\n    <tr>\n      <th>0</th>\n      <td>1</td>\n      <td>00039425-7f3a-42aa-ac13-834aaa2b6b92.wav</td>\n      <td>healthy</td>\n    </tr>\n    <tr>\n      <th>1</th>\n      <td>3</td>\n      <td>0009eb28-d8be-4dc1-92bb-907e53bc5c7a.wav</td>\n      <td>healthy</td>\n    </tr>\n    <tr>\n      <th>2</th>\n      <td>5</td>\n      <td>001328dc-ea5d-4847-9ccf-c5aa2a3f2d0f.wav</td>\n      <td>healthy</td>\n    </tr>\n    <tr>\n      <th>3</th>\n      <td>10</td>\n      <td>0028b68c-aca4-4f4f-bb1d-cb4ed5bbd952.wav</td>\n      <td>healthy</td>\n    </tr>\n    <tr>\n      <th>4</th>\n      <td>11</td>\n      <td>00291cce-36a0-4a29-9e2d-c1d96ca17242.wav</td>\n      <td>healthy</td>\n    </tr>\n  </tbody>\n</table>\n</div>"
     },
     "execution_count": 5,
     "metadata": {},
     "output_type": "execute_result"
    }
   ],
   "source": [
    "private.head()"
   ],
   "metadata": {
    "collapsed": false
   }
  },
  {
   "cell_type": "code",
   "execution_count": 8,
   "outputs": [],
   "source": [
    "private.drop(\"Unnamed: 0\", axis=1, inplace=True)"
   ],
   "metadata": {
    "collapsed": false
   }
  },
  {
   "cell_type": "code",
   "execution_count": 9,
   "outputs": [
    {
     "data": {
      "text/plain": "                                       file   status\n0  00039425-7f3a-42aa-ac13-834aaa2b6b92.wav  healthy\n1  0009eb28-d8be-4dc1-92bb-907e53bc5c7a.wav  healthy\n2  001328dc-ea5d-4847-9ccf-c5aa2a3f2d0f.wav  healthy\n3  0028b68c-aca4-4f4f-bb1d-cb4ed5bbd952.wav  healthy\n4  00291cce-36a0-4a29-9e2d-c1d96ca17242.wav  healthy",
      "text/html": "<div>\n<style scoped>\n    .dataframe tbody tr th:only-of-type {\n        vertical-align: middle;\n    }\n\n    .dataframe tbody tr th {\n        vertical-align: top;\n    }\n\n    .dataframe thead th {\n        text-align: right;\n    }\n</style>\n<table border=\"1\" class=\"dataframe\">\n  <thead>\n    <tr style=\"text-align: right;\">\n      <th></th>\n      <th>file</th>\n      <th>status</th>\n    </tr>\n  </thead>\n  <tbody>\n    <tr>\n      <th>0</th>\n      <td>00039425-7f3a-42aa-ac13-834aaa2b6b92.wav</td>\n      <td>healthy</td>\n    </tr>\n    <tr>\n      <th>1</th>\n      <td>0009eb28-d8be-4dc1-92bb-907e53bc5c7a.wav</td>\n      <td>healthy</td>\n    </tr>\n    <tr>\n      <th>2</th>\n      <td>001328dc-ea5d-4847-9ccf-c5aa2a3f2d0f.wav</td>\n      <td>healthy</td>\n    </tr>\n    <tr>\n      <th>3</th>\n      <td>0028b68c-aca4-4f4f-bb1d-cb4ed5bbd952.wav</td>\n      <td>healthy</td>\n    </tr>\n    <tr>\n      <th>4</th>\n      <td>00291cce-36a0-4a29-9e2d-c1d96ca17242.wav</td>\n      <td>healthy</td>\n    </tr>\n  </tbody>\n</table>\n</div>"
     },
     "execution_count": 9,
     "metadata": {},
     "output_type": "execute_result"
    }
   ],
   "source": [
    "private.head()"
   ],
   "metadata": {
    "collapsed": false
   }
  },
  {
   "cell_type": "code",
   "execution_count": 10,
   "outputs": [
    {
     "data": {
      "text/plain": "healthy     1284\nCOVID-19     642\nName: status, dtype: int64"
     },
     "execution_count": 10,
     "metadata": {},
     "output_type": "execute_result"
    }
   ],
   "source": [
    "private.status.value_counts()"
   ],
   "metadata": {
    "collapsed": false
   }
  },
  {
   "cell_type": "code",
   "execution_count": 11,
   "outputs": [],
   "source": [
    "private.to_csv(\"data/private.csv\", index=False)"
   ],
   "metadata": {
    "collapsed": false
   }
  },
  {
   "cell_type": "code",
   "execution_count": 4,
   "outputs": [],
   "source": [
    "train = pd.read_csv(\"data/train.csv\")"
   ],
   "metadata": {
    "collapsed": false
   }
  },
  {
   "cell_type": "code",
   "execution_count": 7,
   "outputs": [
    {
     "data": {
      "text/plain": "0    3399\n1     669\nName: label, dtype: int64"
     },
     "execution_count": 7,
     "metadata": {},
     "output_type": "execute_result"
    }
   ],
   "source": [
    "train.label.value_counts()"
   ],
   "metadata": {
    "collapsed": false
   }
  },
  {
   "cell_type": "code",
   "execution_count": null,
   "outputs": [],
   "source": [],
   "metadata": {
    "collapsed": false
   }
  }
 ],
 "metadata": {
  "kernelspec": {
   "display_name": "Python 3",
   "language": "python",
   "name": "python3"
  },
  "language_info": {
   "codemirror_mode": {
    "name": "ipython",
    "version": 2
   },
   "file_extension": ".py",
   "mimetype": "text/x-python",
   "name": "python",
   "nbconvert_exporter": "python",
   "pygments_lexer": "ipython2",
   "version": "2.7.6"
  }
 },
 "nbformat": 4,
 "nbformat_minor": 0
}
